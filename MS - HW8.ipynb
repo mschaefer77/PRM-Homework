{
 "cells": [
  {
   "cell_type": "markdown",
   "metadata": {},
   "source": [
    "# Desrcibe LTCM's investment strategy\n",
    "\n",
    "1) The securities traded include government bonds, interest rate swaps, mortgage-pools, FRAs, options and stocks. Their trading frequency was relatively low targeting a longer-term, low turnover approach allowing their positions to converge. They sought after small consistent gains as opposed to infrequent big-hitters. The firms trade selection was driven by a view on spreads between various instruments, determined by quantiative models based on historical data and a view of markets going forward.\n"
   ]
  },
  {
   "cell_type": "markdown",
   "metadata": {},
   "source": [
    "## What are LTCM's biggest advantages over their competitors\n",
    "\n",
    "2. Expertise and finanical technology set gave LTCM an edge over their competitors, as well as their ability to obtain favouable financing terms. "
   ]
  },
  {
   "cell_type": "markdown",
   "metadata": {},
   "source": [
    "## LTCM Funding Risk\n",
    "\n",
    "3. Collateral haircuts: LTCM "
   ]
  },
  {
   "cell_type": "code",
   "execution_count": 229,
   "metadata": {},
   "outputs": [],
   "source": [
    "import pandas as pd \n",
    "import numpy as np \n",
    "import portfolio_management_helper as pmh \n",
    "\n",
    "ltcm_infile = \"../data/ltcm_exhibits_data.xlsx\"\n",
    "gmo_infile = \"../data/gmo_analysis_data.xlsx\"\n",
    "\n",
    "ltcm_check = pd.read_excel(ltcm_infile, sheet_name=None)\n",
    "gmo_check = pd.read_excel(gmo_infile, sheet_name=None)\n",
    "\n",
    "ltcm_sheets = list(ltcm_check.keys())\n",
    "gmo_sheets = list(gmo_check.keys())\n",
    "\n",
    "ltcm_performance = pmh.read_excel_default(ltcm_infile, parse_dates=True, index_col=0, sheet_name=ltcm_sheets[1])[:-4]\n",
    "ltcm_balance = pmh.read_excel_default(ltcm_infile, parse_dates=True, index_col=0, sheet_name=ltcm_sheets[2])[:-2]\n",
    "risk_free = pmh.read_excel_default(gmo_infile, parse_dates=True, index_col=0, sheet_name=gmo_sheets[2])\n",
    "risk_free = risk_free/12\n",
    "\n",
    "spy = pmh.read_excel_default(gmo_infile, parse_dates=True, index_col=0, sheet_name=gmo_sheets[3])\n",
    "spy = spy[['SPY']]\n",
    "spy['SPY'] -= risk_free['TBill 3M']\n",
    "\n",
    "balance_sheet_columns = ['Total Assets', 'Total Capital', 'Leverage Ratio', 'Capital Ration']\n",
    "ltcm_balance.columns = balance_sheet_columns\n",
    "ltcm_balance.index.name = \"Month\"\n",
    "fund_performance_columns = ['Fund Capital', 'Gross Monthly Performance', 'Net Monthly Performance', 'Index of Net Performance']\n",
    "ltcm_performance.columns = fund_performance_columns\n",
    "ltcm_performance.index.name = \"Month\"\n",
    "\n",
    "ltcm_performance.index = risk_free.loc['1994-03':'1998-07'].index\n",
    "ltcm_balance.index = risk_free.loc['1994-06':'1998-07'].index\n",
    "\n",
    "adjust = ['Gross Monthly Performance', 'Net Monthly Performance']\n",
    "ltcm_performance[adjust] = ltcm_performance[adjust].subtract(risk_free['TBill 3M'], axis=0)\n",
    "ltcm_performance = ltcm_performance.join(spy, how='inner')\n",
    "\n"
   ]
  },
  {
   "cell_type": "code",
   "execution_count": 230,
   "metadata": {},
   "outputs": [
    {
     "data": {
      "text/html": [
       "<div>\n",
       "<style scoped>\n",
       "    .dataframe tbody tr th:only-of-type {\n",
       "        vertical-align: middle;\n",
       "    }\n",
       "\n",
       "    .dataframe tbody tr th {\n",
       "        vertical-align: top;\n",
       "    }\n",
       "\n",
       "    .dataframe thead th {\n",
       "        text-align: right;\n",
       "    }\n",
       "</style>\n",
       "<table border=\"1\" class=\"dataframe\">\n",
       "  <thead>\n",
       "    <tr style=\"text-align: right;\">\n",
       "      <th></th>\n",
       "      <th>Annualized Mean</th>\n",
       "      <th>Annualized Vol</th>\n",
       "      <th>Annualized Sharpe</th>\n",
       "      <th>Skewness</th>\n",
       "      <th>Excess Kurtosis</th>\n",
       "      <th>Annualized Historical VaR (5.00%)</th>\n",
       "    </tr>\n",
       "  </thead>\n",
       "  <tbody>\n",
       "    <tr>\n",
       "      <th>Gross Monthly Performance</th>\n",
       "      <td>0.2433</td>\n",
       "      <td>0.1363</td>\n",
       "      <td>1.7858</td>\n",
       "      <td>-0.2897</td>\n",
       "      <td>1.5800</td>\n",
       "      <td>-0.1052</td>\n",
       "    </tr>\n",
       "    <tr>\n",
       "      <th>Net Monthly Performance</th>\n",
       "      <td>0.1566</td>\n",
       "      <td>0.1118</td>\n",
       "      <td>1.4009</td>\n",
       "      <td>-0.8117</td>\n",
       "      <td>2.9172</td>\n",
       "      <td>-0.0914</td>\n",
       "    </tr>\n",
       "    <tr>\n",
       "      <th>SPY</th>\n",
       "      <td>0.1752</td>\n",
       "      <td>0.1127</td>\n",
       "      <td>1.5551</td>\n",
       "      <td>-0.4325</td>\n",
       "      <td>-0.3587</td>\n",
       "      <td>-0.1616</td>\n",
       "    </tr>\n",
       "  </tbody>\n",
       "</table>\n",
       "</div>"
      ],
      "text/plain": [
       "                           Annualized Mean  Annualized Vol  Annualized Sharpe  \\\n",
       "Gross Monthly Performance           0.2433          0.1363             1.7858   \n",
       "Net Monthly Performance             0.1566          0.1118             1.4009   \n",
       "SPY                                 0.1752          0.1127             1.5551   \n",
       "\n",
       "                           Skewness  Excess Kurtosis  \\\n",
       "Gross Monthly Performance   -0.2897           1.5800   \n",
       "Net Monthly Performance     -0.8117           2.9172   \n",
       "SPY                         -0.4325          -0.3587   \n",
       "\n",
       "                           Annualized Historical VaR (5.00%)  \n",
       "Gross Monthly Performance                            -0.1052  \n",
       "Net Monthly Performance                              -0.0914  \n",
       "SPY                                                  -0.1616  "
      ]
     },
     "execution_count": 230,
     "metadata": {},
     "output_type": "execute_result"
    }
   ],
   "source": [
    "pmh.calc_summary_statistics(ltcm_performance[['Gross Monthly Performance', 'Net Monthly Performance', 'SPY']], \n",
    "                            provided_excess_returns=True, \n",
    "                            annual_factor=12, \n",
    "                            var_quantile=0.05,\n",
    "                            keep_columns=['Annualized Mean', 'Annualized Vol', 'Annualized Sharpe','Skewness', 'Kurtosis', 'Annualized Historical VaR'])"
   ]
  },
  {
   "cell_type": "markdown",
   "metadata": {},
   "source": [
    "2.1.C) The gross monthly performance has a better mean return than SPY, but with increaed volatility leading to a lower sharpe ratio. The net monthly \n",
    "performance has a (almost double) negative skewness, when compared to SPY indicating siginificant tendency for negative returns. The kurtosis levels of\n",
    "both the gross and net monthly performance is significantly larger than SPY pointing to a strong likelihood of both negative and positive extreme returns. Despite the more negative skewness, the VaR of the ltcm fund is more favourable than SPY. \n"
   ]
  },
  {
   "cell_type": "code",
   "execution_count": 231,
   "metadata": {},
   "outputs": [
    {
     "data": {
      "text/html": [
       "<div>\n",
       "<style scoped>\n",
       "    .dataframe tbody tr th:only-of-type {\n",
       "        vertical-align: middle;\n",
       "    }\n",
       "\n",
       "    .dataframe tbody tr th {\n",
       "        vertical-align: top;\n",
       "    }\n",
       "\n",
       "    .dataframe thead th {\n",
       "        text-align: right;\n",
       "    }\n",
       "</style>\n",
       "<table border=\"1\" class=\"dataframe\">\n",
       "  <thead>\n",
       "    <tr style=\"text-align: right;\">\n",
       "      <th></th>\n",
       "      <th>Annualized Alpha</th>\n",
       "      <th>R-Squared</th>\n",
       "      <th>SPY Beta</th>\n",
       "    </tr>\n",
       "  </thead>\n",
       "  <tbody>\n",
       "    <tr>\n",
       "      <th>Net Monthly Performance</th>\n",
       "      <td>0.1326</td>\n",
       "      <td>0.0191</td>\n",
       "      <td>0.1371</td>\n",
       "    </tr>\n",
       "  </tbody>\n",
       "</table>\n",
       "</div>"
      ],
      "text/plain": [
       "                         Annualized Alpha  R-Squared  SPY Beta\n",
       "Net Monthly Performance            0.1326     0.0191    0.1371"
      ]
     },
     "execution_count": 231,
     "metadata": {},
     "output_type": "execute_result"
    }
   ],
   "source": [
    "pmh.calc_regression(ltcm_performance[['Net Monthly Performance']], ltcm_performance[['SPY']], annual_factor=12, intercept=True, \n",
    "                    warnings=False, \n",
    "                    keep_columns=['R-Squared', 'Annualized Alpha', 'SPY Beta'])"
   ]
  },
  {
   "cell_type": "markdown",
   "metadata": {},
   "source": [
    "2.2.B) No LTCM does not seem to be a close indexer as evidenced by the low R-squared value. This indicates that the majority of variance of the returns of LTCM cannot be explained by the market - this is consistent with their investment approach.\n",
    "\n",
    "2.2.C) Yes, the annualized alpha of 13.26% indicates that LTCM was able to deliver substantial returns beyond the risk premium expected from market\n",
    "exposure. "
   ]
  },
  {
   "cell_type": "code",
   "execution_count": 232,
   "metadata": {},
   "outputs": [
    {
     "name": "stdout",
     "output_type": "stream",
     "text": [
      "y has lenght 53 and X has lenght 381. Joining y and X by index...\n"
     ]
    },
    {
     "data": {
      "text/html": [
       "<div>\n",
       "<style scoped>\n",
       "    .dataframe tbody tr th:only-of-type {\n",
       "        vertical-align: middle;\n",
       "    }\n",
       "\n",
       "    .dataframe tbody tr th {\n",
       "        vertical-align: top;\n",
       "    }\n",
       "\n",
       "    .dataframe thead th {\n",
       "        text-align: right;\n",
       "    }\n",
       "</style>\n",
       "<table border=\"1\" class=\"dataframe\">\n",
       "  <thead>\n",
       "    <tr style=\"text-align: right;\">\n",
       "      <th></th>\n",
       "      <th>Annualized Alpha</th>\n",
       "      <th>R-Squared</th>\n",
       "      <th>SPY Beta</th>\n",
       "      <th>SPY Squared Beta</th>\n",
       "    </tr>\n",
       "  </thead>\n",
       "  <tbody>\n",
       "    <tr>\n",
       "      <th>Net Monthly Performance</th>\n",
       "      <td>0.1563</td>\n",
       "      <td>0.0245</td>\n",
       "      <td>0.1673</td>\n",
       "      <td>-1.9289</td>\n",
       "    </tr>\n",
       "  </tbody>\n",
       "</table>\n",
       "</div>"
      ],
      "text/plain": [
       "                         Annualized Alpha  R-Squared  SPY Beta  \\\n",
       "Net Monthly Performance            0.1563     0.0245    0.1673   \n",
       "\n",
       "                         SPY Squared Beta  \n",
       "Net Monthly Performance           -1.9289  "
      ]
     },
     "execution_count": 232,
     "metadata": {},
     "output_type": "execute_result"
    }
   ],
   "source": [
    "spy['SPY Squared'] = spy['SPY']**2\n",
    "\n",
    "pmh.calc_regression(ltcm_performance[['Net Monthly Performance']], spy[['SPY', 'SPY Squared']], annual_factor=12, intercept=True,\n",
    "                    warnings=False, \n",
    "                    keep_columns=['R-Squared', 'Annualized Alpha', 'SPY Beta', 'SPY Squared Beta'])"
   ]
  },
  {
   "cell_type": "markdown",
   "metadata": {},
   "source": [
    "2.3.B) No, the addition of the quadratic market factor does not increase the explanatory power of the regression with the R-squared value being a \n",
    "measly 2.45%. \n",
    "\n",
    "2.3.C) The quadratic market factor explains the non-linear relationship between the portfolio and the market such as curvature and volatility. Given that LTCM has a negative sensitivity to this factor, all else constant, it would suggest that the portfolio is short market options.\n",
    "\n",
    "2.3.D) Short market volatility"
   ]
  },
  {
   "cell_type": "code",
   "execution_count": 233,
   "metadata": {},
   "outputs": [
    {
     "name": "stdout",
     "output_type": "stream",
     "text": [
      "y has lenght 53 and X has lenght 381. Joining y and X by index...\n"
     ]
    },
    {
     "data": {
      "text/html": [
       "<div>\n",
       "<style scoped>\n",
       "    .dataframe tbody tr th:only-of-type {\n",
       "        vertical-align: middle;\n",
       "    }\n",
       "\n",
       "    .dataframe tbody tr th {\n",
       "        vertical-align: top;\n",
       "    }\n",
       "\n",
       "    .dataframe thead th {\n",
       "        text-align: right;\n",
       "    }\n",
       "</style>\n",
       "<table border=\"1\" class=\"dataframe\">\n",
       "  <thead>\n",
       "    <tr style=\"text-align: right;\">\n",
       "      <th></th>\n",
       "      <th>Annualized Alpha</th>\n",
       "      <th>R-Squared</th>\n",
       "      <th>SPY Beta</th>\n",
       "      <th>K1 Beta</th>\n",
       "      <th>K2 Beta</th>\n",
       "    </tr>\n",
       "  </thead>\n",
       "  <tbody>\n",
       "    <tr>\n",
       "      <th>Net Monthly Performance</th>\n",
       "      <td>-0.3678</td>\n",
       "      <td>0.0566</td>\n",
       "      <td>-0.8306</td>\n",
       "      <td>-0.7897</td>\n",
       "      <td>1.3034</td>\n",
       "    </tr>\n",
       "  </tbody>\n",
       "</table>\n",
       "</div>"
      ],
      "text/plain": [
       "                         Annualized Alpha  R-Squared  SPY Beta  K1 Beta  \\\n",
       "Net Monthly Performance           -0.3678     0.0566   -0.8306  -0.7897   \n",
       "\n",
       "                         K2 Beta  \n",
       "Net Monthly Performance   1.3034  "
      ]
     },
     "execution_count": 233,
     "metadata": {},
     "output_type": "execute_result"
    }
   ],
   "source": [
    "k1 = 0.03\n",
    "k2 = -0.03 \n",
    "\n",
    "spy['K1'] = np.maximum(spy['SPY'] - k1, 0)\n",
    "spy['K2'] = np.maximum(spy['SPY'] - k2, 0)\n",
    "\n",
    "pmh.calc_regression(ltcm_performance[['Net Monthly Performance']], spy[['SPY', 'K1', 'K2']], annual_factor=12, intercept=True,\n",
    "                    warnings=False, \n",
    "                    keep_columns=['R-Squared', 'Annualized Alpha', 'SPY Beta', 'K1 Beta', 'K2 Beta'])\n",
    "\n"
   ]
  },
  {
   "cell_type": "markdown",
   "metadata": {},
   "source": [
    "2.4.B) LTCM is short the call-like factor and long the put-like factor. \n",
    "\n",
    "2.4.C) The absolute maginture of the beta coefficients is greater for the put-like factor which indicates that the put-like factor influences the\n",
    "portfolios performance more. \n",
    "\n",
    "2.4.D) We have established that LTCM is short the call-like factor and long the put-like factor. The difference in magnitude between betas on the option-like factors suggest that the volatility sensitivity stems from being long the market downside. "
   ]
  },
  {
   "cell_type": "code",
   "execution_count": 234,
   "metadata": {},
   "outputs": [],
   "source": [
    "infile = \"../data/fx_rf_data.xlsx\"\n",
    "\n",
    "check = pd.read_excel(infile, sheet_name=None)\n",
    "sheets = list(check.keys())\n",
    "\n",
    "fx_rf = pmh.read_excel_default(infile, parse_dates=True, index_col=0, sheet_name=sheets[0])/252\n",
    "fx_rates = pmh.read_excel_default(infile, parse_dates=True, index_col=0, sheet_name=sheets[1])\n"
   ]
  },
  {
   "cell_type": "code",
   "execution_count": 241,
   "metadata": {},
   "outputs": [
    {
     "data": {
      "text/html": [
       "<div>\n",
       "<style scoped>\n",
       "    .dataframe tbody tr th:only-of-type {\n",
       "        vertical-align: middle;\n",
       "    }\n",
       "\n",
       "    .dataframe tbody tr th {\n",
       "        vertical-align: top;\n",
       "    }\n",
       "\n",
       "    .dataframe thead th {\n",
       "        text-align: right;\n",
       "    }\n",
       "</style>\n",
       "<table border=\"1\" class=\"dataframe\">\n",
       "  <thead>\n",
       "    <tr style=\"text-align: right;\">\n",
       "      <th></th>\n",
       "      <th>Annualized Mean</th>\n",
       "      <th>Annualized Vol</th>\n",
       "      <th>Annualized Sharpe</th>\n",
       "    </tr>\n",
       "  </thead>\n",
       "  <tbody>\n",
       "    <tr>\n",
       "      <th>MXN</th>\n",
       "      <td>0.0131</td>\n",
       "      <td>0.1300</td>\n",
       "      <td>0.1007</td>\n",
       "    </tr>\n",
       "    <tr>\n",
       "      <th>CHF</th>\n",
       "      <td>0.0031</td>\n",
       "      <td>0.1069</td>\n",
       "      <td>0.0292</td>\n",
       "    </tr>\n",
       "    <tr>\n",
       "      <th>GBP</th>\n",
       "      <td>-0.0243</td>\n",
       "      <td>0.0957</td>\n",
       "      <td>-0.2544</td>\n",
       "    </tr>\n",
       "    <tr>\n",
       "      <th>EUR</th>\n",
       "      <td>-0.0231</td>\n",
       "      <td>0.0900</td>\n",
       "      <td>-0.2568</td>\n",
       "    </tr>\n",
       "    <tr>\n",
       "      <th>JPY</th>\n",
       "      <td>-0.0292</td>\n",
       "      <td>0.0991</td>\n",
       "      <td>-0.2942</td>\n",
       "    </tr>\n",
       "  </tbody>\n",
       "</table>\n",
       "</div>"
      ],
      "text/plain": [
       "     Annualized Mean  Annualized Vol  Annualized Sharpe\n",
       "MXN           0.0131          0.1300             0.1007\n",
       "CHF           0.0031          0.1069             0.0292\n",
       "GBP          -0.0243          0.0957            -0.2544\n",
       "EUR          -0.0231          0.0900            -0.2568\n",
       "JPY          -0.0292          0.0991            -0.2942"
      ]
     },
     "execution_count": 241,
     "metadata": {},
     "output_type": "execute_result"
    }
   ],
   "source": [
    "log_rf = np.log(1 + fx_rf)\n",
    "log_fx = np.log(fx_rates)\n",
    "log_fx_shifted = log_fx.shift(-1)\n",
    "\n",
    "log_returns = log_fx_shifted - log_fx + log_rf \n",
    "log_returns = log_returns.subtract(log_rf['USD'], axis=0)\n",
    "log_returns = log_returns.drop(['USD'], axis=1)\n",
    "log_returns = log_returns.dropna()\n",
    "pmh.calc_summary_statistics(log_returns, provided_excess_returns=True, \n",
    "                            annual_factor=252,\n",
    "                            keep_columns=['Annualized Mean', 'Annualized Vol', 'Annualized Sharpe']).sort_values('Annualized Sharpe', ascending=False)\n"
   ]
  },
  {
   "cell_type": "markdown",
   "metadata": {},
   "source": [
    "3.1) The difference are vast. The annualizes mean returns range from -2.92% -> 1.31 % with sharpe ratios ranging -29.42% -> 10.07%"
   ]
  },
  {
   "cell_type": "markdown",
   "metadata": {},
   "source": [
    "3.2.1) UIP says that the expectation of ln(St+1) - ln(St) = ln(R*) - ln(R$), or equivalently, 0 = ln(St+1) - ln(St) + ln(R*) - ln(R$). However, as we can see from the summary statistics, all of them violate UIP as the annualized mean does not = 0. \n",
    "\n",
    "3.2.2) MXN had the best sharpe ratio\n",
    "\n",
    "3.2.3) Yes, long positions of all of GBP, EUR and JPY had negative excess returns over USD.\n"
   ]
  },
  {
   "cell_type": "code",
   "execution_count": null,
   "metadata": {},
   "outputs": [
    {
     "data": {
      "text/html": [
       "<div>\n",
       "<style scoped>\n",
       "    .dataframe tbody tr th:only-of-type {\n",
       "        vertical-align: middle;\n",
       "    }\n",
       "\n",
       "    .dataframe tbody tr th {\n",
       "        vertical-align: top;\n",
       "    }\n",
       "\n",
       "    .dataframe thead th {\n",
       "        text-align: right;\n",
       "    }\n",
       "</style>\n",
       "<table border=\"1\" class=\"dataframe\">\n",
       "  <thead>\n",
       "    <tr style=\"text-align: right;\">\n",
       "      <th></th>\n",
       "      <th>JPY</th>\n",
       "      <th>EUR</th>\n",
       "      <th>GBP</th>\n",
       "      <th>MXN</th>\n",
       "      <th>CHF</th>\n",
       "    </tr>\n",
       "  </thead>\n",
       "  <tbody>\n",
       "    <tr>\n",
       "      <th>Alpha</th>\n",
       "      <td>-0.0219</td>\n",
       "      <td>-0.0315</td>\n",
       "      <td>-0.0252</td>\n",
       "      <td>-0.0736</td>\n",
       "      <td>0.0037</td>\n",
       "    </tr>\n",
       "    <tr>\n",
       "      <th>Beta</th>\n",
       "      <td>0.3518</td>\n",
       "      <td>2.1602</td>\n",
       "      <td>6.8103</td>\n",
       "      <td>-0.8088</td>\n",
       "      <td>0.9069</td>\n",
       "    </tr>\n",
       "    <tr>\n",
       "      <th>R-Squared</th>\n",
       "      <td>0.0000</td>\n",
       "      <td>0.0003</td>\n",
       "      <td>0.0015</td>\n",
       "      <td>0.0000</td>\n",
       "      <td>0.0001</td>\n",
       "    </tr>\n",
       "  </tbody>\n",
       "</table>\n",
       "</div>"
      ],
      "text/plain": [
       "              JPY     EUR     GBP     MXN    CHF\n",
       "Alpha     -0.0219 -0.0315 -0.0252 -0.0736 0.0037\n",
       "Beta       0.3518  2.1602  6.8103 -0.8088 0.9069\n",
       "R-Squared  0.0000  0.0003  0.0015  0.0000 0.0001"
      ]
     },
     "execution_count": 258,
     "metadata": {},
     "output_type": "execute_result"
    }
   ],
   "source": [
    "spot_differences = log_fx.shift(-1) - log_fx\n",
    "rate_difference = pd.DataFrame(index=log_rf.index, columns=log_fx.columns)\n",
    "\n",
    "for col in rate_difference.columns: \n",
    "    rate_difference[col] = log_rf['USD'] - log_rf[col]\n",
    "\n",
    "\n",
    "results = {}\n",
    "\n",
    "for col in rate_difference.columns: \n",
    "    interim = pmh.calc_regression(spot_differences[[col]], rate_difference[[col]], annual_factor=252, intercept=True, warnings=False)\n",
    "    alpha = interim['Annualized Alpha'].values[0]\n",
    "    beta = interim[f\"{col} Beta\"].values[0]\n",
    "    r_squared = interim['R-Squared'].values[0]\n",
    "    results[col] = [alpha, beta, r_squared]\n",
    "\n",
    "results_df = pd.DataFrame.from_dict(results, orient='index', columns=['Alpha', 'Beta', 'R-Squared']).T\n",
    "results_df"
   ]
  },
  {
   "cell_type": "markdown",
   "metadata": {},
   "source": [
    "3.3.1) If the foreign rate increases then the rate differential decreases. For USD to appreiciate, we would expect the FX rate to increaese, therefore, currencies with  negatiive beta values in this regression indicate an appreciation of USD (MXN)\n",
    "\n",
    "3.3.2) JPY, EUR, GBP, CHF\n",
    "\n",
    "3.3.3) This predictability is strongest for GBP, as evidenced by the greatest R-Squared value"
   ]
  },
  {
   "cell_type": "code",
   "execution_count": 274,
   "metadata": {},
   "outputs": [
    {
     "data": {
      "text/html": [
       "<div>\n",
       "<style scoped>\n",
       "    .dataframe tbody tr th:only-of-type {\n",
       "        vertical-align: middle;\n",
       "    }\n",
       "\n",
       "    .dataframe tbody tr th {\n",
       "        vertical-align: top;\n",
       "    }\n",
       "\n",
       "    .dataframe thead th {\n",
       "        text-align: right;\n",
       "    }\n",
       "</style>\n",
       "<table border=\"1\" class=\"dataframe\">\n",
       "  <thead>\n",
       "    <tr style=\"text-align: right;\">\n",
       "      <th></th>\n",
       "      <th>Number of Months with Positive Risk Premia</th>\n",
       "    </tr>\n",
       "  </thead>\n",
       "  <tbody>\n",
       "    <tr>\n",
       "      <th>JPY</th>\n",
       "      <td>0</td>\n",
       "    </tr>\n",
       "    <tr>\n",
       "      <th>EUR</th>\n",
       "      <td>0</td>\n",
       "    </tr>\n",
       "    <tr>\n",
       "      <th>GBP</th>\n",
       "      <td>0</td>\n",
       "    </tr>\n",
       "    <tr>\n",
       "      <th>MXN</th>\n",
       "      <td>0</td>\n",
       "    </tr>\n",
       "    <tr>\n",
       "      <th>CHF</th>\n",
       "      <td>202</td>\n",
       "    </tr>\n",
       "  </tbody>\n",
       "</table>\n",
       "</div>"
      ],
      "text/plain": [
       "     Number of Months with Positive Risk Premia\n",
       "JPY                                           0\n",
       "EUR                                           0\n",
       "GBP                                           0\n",
       "MXN                                           0\n",
       "CHF                                         202"
      ]
     },
     "execution_count": 274,
     "metadata": {},
     "output_type": "execute_result"
    }
   ],
   "source": [
    "risk_premia = pd.DataFrame(index=rate_difference.index, columns=rate_difference.columns)\n",
    "for k, col in enumerate(rate_difference.columns): \n",
    "    for i, row in enumerate(rate_difference[col]): \n",
    "        expected_return = results_df[col]['Alpha'] + (results_df[col]['Beta'] - 1) * row\n",
    "        risk_premia.iloc[i, k] = expected_return\n",
    "\n",
    "monthly_risk_premia = risk_premia.resample('M').sum()\n",
    "\n",
    "count = {}\n",
    "\n",
    "for col in monthly_risk_premia.columns: \n",
    "    count[col] = (monthly_risk_premia[col] > 0).sum()\n",
    "\n",
    "count_df = pd.DataFrame.from_dict(count, orient='index', columns=['Number of Months with Positive Risk Premia'])\n",
    "count_df"
   ]
  },
  {
   "cell_type": "markdown",
   "metadata": {},
   "source": [
    "3.4.2) All of JPY, EUR, GBP and MXN never have a positive risk premia while CHF has the most frequent positive months. \n",
    "\n",
    "3.4.3) Problem 1 assumed that UIP held, although we established that it did not. This approach is a data driven approach not reliant on any assumptions and could therefore provide enhanced insights."
   ]
  }
 ],
 "metadata": {
  "kernelspec": {
   "display_name": "dscw",
   "language": "python",
   "name": "python3"
  },
  "language_info": {
   "codemirror_mode": {
    "name": "ipython",
    "version": 3
   },
   "file_extension": ".py",
   "mimetype": "text/x-python",
   "name": "python",
   "nbconvert_exporter": "python",
   "pygments_lexer": "ipython3",
   "version": "3.11.10"
  }
 },
 "nbformat": 4,
 "nbformat_minor": 2
}
