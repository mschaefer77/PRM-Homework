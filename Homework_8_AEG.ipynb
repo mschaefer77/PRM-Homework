{
 "cells": [
  {
   "cell_type": "markdown",
   "id": "249339a4",
   "metadata": {},
   "source": [
    "\n",
    "# Homework #8\n",
    "\n",
    "## Long-Term Capital Management, L.P. (A) [HBS 9-200-007]\n",
    "\n",
    "### 1 Conceptual Issues for LTCM\n",
    "\n",
    "Discuss these questions briefly, based on the info in the case. No need to quantitatively answer these questions.\n",
    "\n",
    "1. Describe LTCM’s investment strategy with regard to the following aspects:\n",
    "\n",
    "    - Securities traded\n",
    "\n",
    "    <span style=\"color:red;\">\n",
    "\n",
    "    * Fixed-Income Swaps and Government Bonds (Swap Spread Trade)\n",
    "    * Fixed-Rate Residential Mortgages\n",
    "    * Long-maturity put and call options (selling volatility trade)\n",
    "    * Equities (Risk Arbitrage and equity relative value trades)\n",
    "\n",
    "    </span>\n",
    "\n",
    "    - Trading frequency\n",
    "\n",
    "    <span style=\"color:red;\">\n",
    "\n",
    "    Longer time-horizons (6-months to 2 years or more).\n",
    "\n",
    "    </span>\n",
    "\n",
    "    - Skewness (Do they seek many small wins or a few big hits?)\n",
    "\n",
    "    <span style=\"color:red;\">\n",
    "\n",
    "    The seek many small wins. Take, for example, the swap-spread trade example. This trade resulted in repeatable small wins, but the returns were magnified by the fund's leverage (which was 19:1)\n",
    "\n",
    "    </span>\n",
    "\n",
    "    - Forecasting (What is behind their selection of trades?)\n",
    "\n",
    "    <span style=\"color:red;\">\n",
    "\n",
    "    Much of their investment selection was based on known relationships between fixed-income instruments. They would place trades with the expectation that these relationships would persist into the future, exploiting the auto-correlation of interest rates or exchange rates. \n",
    "    \n",
    "    For their equity strategies, they avoided many events that had high uncertainty, focusing instead on trades that afforded little excess value. They magnified the returns on these spreads by levering up their positions using total-return swaps.\n",
    "\n",
    "    </span>\n",
    "\n",
    "2. What are LTCM’s biggest advantages over its competitors?\n",
    "\n",
    "    <span style=\"color:red;\">\n",
    "\n",
    "    LTCM's greatest advantage lied in their access to capital markets. They were able to finance trades at very favorable rates that allowed them to lever up their positions significantly, and take advantage of some trades that would only be profitable due to the financing rates they could realize. They gained this advantage due to the following features of their trading strategies:\n",
    "    1. **Fund Size:** The size of LTCM's fund supported their efficient financing advantage. Because they were large relative to many of their competitors, they were able to command more favorable rates in their financing arrangements.\n",
    "    2. **Collateralization:** LTCM often collateralized their positions to obtain lower haircuts.\n",
    "    3. **Long-Term Horizon (Equity Capital):** LTCM could effectively manage their liquidity because investment in their fund was subject to long-horizon lockups. This meant they did not have to worry about investors pulling cash out of the fund during periods of adverse market movements.\n",
    "    4. **Hedging & Risk Management:** Many of LTCM's strategies were hedged strategies, which means they exposed themselves to a limited amount of risk. \n",
    "\n",
    "    </span>\n",
    "\n",
    "3. The case discusses four types of funding risk facing LTCM and ways in which LTCM manages each of these risks. Briefly discuss them:\n",
    "\n",
    "    - Collateral haircuts\n",
    "\n",
    "    <span style=\"color:red;\">\n",
    "\n",
    "    The haircuts increase in a market disruption event leading to unfavorable collateral terms for LTCM in terms of funding a spread trade. For most trades, LTCM obtains 100% financing on a fully collateralized basis.\n",
    "\n",
    "    </span>\n",
    "\n",
    "    - Repo maturity\n",
    "\n",
    "    <span style=\"color:red;\">\n",
    "\n",
    "    In an adverse situation, where their credit risk goes up, LTCM won't be able to secure these longer terms repos, which were favorable to their trades. LTCM goes against the norm by entering into relatively long-maturity repos (6-12 months vs. overnight). \n",
    "\n",
    "    </span>\n",
    "\n",
    "    - Equity redemption\n",
    "\n",
    "    <span style=\"color:red;\">\n",
    "\n",
    "    In an adverse trading environment, many funds would be at risk of investors withdrawing funds. LTCM, however, initially made investments in their fund subject to a 3-year lockup period to manage this equity redemption funding risk. This was later modified to a staggered redemption schedule where investors could redeem up to a third of their capital in each of years 2, 3, and 4 of their investment. However, any unredeemed capital was considered a \"new\" investment and went back to the beginning of the lockup schedule. In this way, LTCM better secured their equity financing and limited the potential for exacerbation of trading losses due to unfavorable redemptions in adverse trading environments.\n",
    "\n",
    "    </span>\n",
    "\n",
    "    - Loan access\n",
    "\n",
    "    <span style=\"color:red;\">\n",
    "\n",
    "    The fund had negotiated a total of $930 million in loan financing across two types of facilities:\n",
    "\n",
    "    * $230 million of unsecured term loans with maturities of ~3 years\n",
    "    * $700 million unsecured revolving line of credit from a lending syndicate of 25 commercial banks\n",
    "\n",
    "    The \\$700 million revolver was particularly noteworthy because LTCM was able to obtain this financing without covenants subject to discretionary interpretation by the lenders, such as a Material Adverse Change clause. Instead, the aggreement provided that the fund could not have any of the facility draw if the fund's NAV fell $\\geq$ 50% or more during the calendar year.\n",
    "\n",
    "    </span>\n",
    "\n",
    "    \n",
    "\n",
    "4. LTCM is largely in the business of selling liquidity and volatility. Describe how LTCM accounts for liquidity risk in their quantitative measurements.\n",
    "\n",
    "    <span style=\"color:red;\">\n",
    "\n",
    "    LTCM required their trading counterparties to maintain a collateral balance via daily marking-to-market and settlement. Thus, the cash flow coming from these daily settlements fund LTCM's outgoing cash flows coming from offsetting positions.\n",
    "\n",
    "    They also estimated theoretical worst case haircuts that could be realized in adverse market environments. Forecasting these worst case liquidity events allowed them to better structure their financing so as not to liquidate its positions when the market would move against their positions.\n",
    "\n",
    "    For day-to-day risk management, LTCM accounts for liquidity risk by adjusting security correlations. Over short-term horizons, they assume positive correlations between all trade categories.\n",
    "\n",
    "    </span>\n",
    "\n",
    "5. Is leverage risk currently a concern for LTCM?\n",
    "\n",
    "    <span style=\"color:red;\">\n",
    "\n",
    "    At the time of the case, leverage was not a major risk being managed (as evidenced by their 19:1 leverage ratio). However, it was obviously a threat to their operations in hindsight.\n",
    "\n",
    "    </span>\n",
    "\n",
    "6. Many strategies of LTCM rely on converging spreads. LTCM feels that these are almost win/win situations because of the fact that if the spread converges, they make money. If it diverges, the trade becomes even more attractive, as convergence is still expected at a future date. *What is the risk in these convergence trades*?\n",
    "\n",
    "    <span style=\"color:red;\">\n",
    "\n",
    "    The risk in these convergence trades is that convergence is not realized. Importantly, this is not a zero-probability event, rather it is a low probability event. Consequently, LTCM exposed itself signficantly to tail risk, and wasn't managing extreme tail risk. Thus, when a generational market event (like the rapid depreciation of the Russian Ruble) that LTCM has exposure to is realized, their losses from non-convergence are amplified 19x. Such a generational market event was, ultimately, LTCM's undoing.\n",
    "\n",
    "    </span>\n",
    "\n",
    "---\n",
    "\n"
   ]
  },
  {
   "cell_type": "code",
   "execution_count": 2,
   "id": "26d8d258",
   "metadata": {},
   "outputs": [],
   "source": [
    "import pandas as pd\n",
    "from datetime import timedelta\n",
    "import numpy as np\n",
    "from functools import partial\n",
    "\n",
    "from scipy.stats import norm, chi2\n",
    "from sklearn.linear_model import LinearRegression\n",
    "from sklearn.preprocessing import PolynomialFeatures\n",
    "import statsmodels.api as sm\n",
    "\n",
    "import matplotlib.pyplot as plt\n",
    "import seaborn as sns\n",
    "import warnings\n",
    "\n",
    "import os\n",
    "import sys\n",
    "current_dir = os.getcwd()\n",
    "parent_dir = os.path.abspath(os.path.join(current_dir, os.pardir))\n",
    "grandparent_dir = os.path.abspath(os.path.join(parent_dir, os.pardir))\n",
    "sys.path.insert(0, parent_dir)\n",
    "sys.path.insert(0, grandparent_dir)\n",
    "import cmds.portfolio_management_helper as pmh\n",
    "\n",
    "plt.style.use(\"seaborn-v0_8-whitegrid\")\n",
    "PLOT_WIDTH, PLOT_HEIGHT = 8, 5\n",
    "COLORS = [\"blue\", \"red\", \"orange\"]\n",
    "\n",
    "warnings.filterwarnings('ignore')\n",
    "pd.options.display.float_format = \"{:.4f}\".format\n",
    "p = plt.rcParams\n",
    "\n",
    "%matplotlib inline\n",
    "%load_ext autoreload\n",
    "%autoreload 2"
   ]
  },
  {
   "cell_type": "markdown",
   "id": "d695b7a6",
   "metadata": {},
   "source": [
    "## 2 LTCM Risk Decomposition\n",
    "\n",
    "- On Canvas, find the data file, `ltcm_exhibits_data.xlsx`. Get the gross and net (total) returns of LTCM from “Exhibit 2”.\n",
    "- Get the returns on SPY as well as the risk-free rate from the file, `gmo_analysis_data`."
   ]
  },
  {
   "cell_type": "code",
   "execution_count": 3,
   "id": "bccf19c1",
   "metadata": {},
   "outputs": [],
   "source": [
    "DATA_PATH = parent_dir + '/data/'\n",
    "GMO_FILE = DATA_PATH + 'gmo_analysis_data.xlsx'\n",
    "LTCM_FILE = DATA_PATH + 'ltcm_exhibits_data.xlsx'\n",
    "rets_spy = pmh.read_excel_default(GMO_FILE, \n",
    "                                 sheet_name='total returns',\n",
    "                                 index_col='date', parse_dates=True).loc[:, 'SPY'].to_frame('SPY')\n",
    "rets_spy = rets_spy.iloc[:-1]  # remove the last row\n",
    "rets_rf = pmh.read_excel_default(GMO_FILE, \n",
    "                                 sheet_name='risk-free rate',\n",
    "                                 index_col='date', parse_dates=True)\n",
    "rets_rf /= 12   # risk-free returns are originally provided on annualized basis\n",
    "rets_ltcm = pmh.read_excel_default(LTCM_FILE, \n",
    "                                 sheet_name='Exhibit 2',\n",
    "                                 index_col=0, parse_dates=True,\n",
    "                                 header=2).dropna().iloc[:, 1:3]\n",
    "rets_ltcm.columns = ['gross_ret', 'net_ret']\n",
    "\n",
    "# Align the LTCM dates index with the RF and SPY dates indices\n",
    "rets_ltcm.index = rets_rf.loc['1994-03':'1998-07'].index"
   ]
  },
  {
   "cell_type": "markdown",
   "id": "32788eaf",
   "metadata": {},
   "source": [
    "### 2.1. **Summary Stats.**\n",
    "\n",
    "(a) For both the gross and net series of LTCM excess returns, report the mean, volatility, and Sharpe ratios. (Annualize them.)\n",
    "\n",
    "(b) Report the skewness, kurtosis, and (historic) VaR(.05).\n",
    "\n",
    "(c) Comment on how these stats compare to SPY and other assets we have seen. How much do they differ between gross and net?"
   ]
  },
  {
   "cell_type": "code",
   "execution_count": 4,
   "id": "318668e2",
   "metadata": {},
   "outputs": [
    {
     "data": {
      "text/html": [
       "<style type=\"text/css\">\n",
       "</style>\n",
       "<table id=\"T_17564\">\n",
       "  <thead>\n",
       "    <tr>\n",
       "      <th class=\"blank level0\" >&nbsp;</th>\n",
       "      <th id=\"T_17564_level0_col0\" class=\"col_heading level0 col0\" >gross_ret</th>\n",
       "      <th id=\"T_17564_level0_col1\" class=\"col_heading level0 col1\" >net_ret</th>\n",
       "      <th id=\"T_17564_level0_col2\" class=\"col_heading level0 col2\" >SPY</th>\n",
       "    </tr>\n",
       "  </thead>\n",
       "  <tbody>\n",
       "    <tr>\n",
       "      <th id=\"T_17564_level0_row0\" class=\"row_heading level0 row0\" >Annualized Mean</th>\n",
       "      <td id=\"T_17564_row0_col0\" class=\"data row0 col0\" >24.33%</td>\n",
       "      <td id=\"T_17564_row0_col1\" class=\"data row0 col1\" >15.66%</td>\n",
       "      <td id=\"T_17564_row0_col2\" class=\"data row0 col2\" >17.52%</td>\n",
       "    </tr>\n",
       "    <tr>\n",
       "      <th id=\"T_17564_level0_row1\" class=\"row_heading level0 row1\" >Annualized Vol</th>\n",
       "      <td id=\"T_17564_row1_col0\" class=\"data row1 col0\" >13.63%</td>\n",
       "      <td id=\"T_17564_row1_col1\" class=\"data row1 col1\" >11.18%</td>\n",
       "      <td id=\"T_17564_row1_col2\" class=\"data row1 col2\" >11.27%</td>\n",
       "    </tr>\n",
       "    <tr>\n",
       "      <th id=\"T_17564_level0_row2\" class=\"row_heading level0 row2\" >Annualized Sharpe</th>\n",
       "      <td id=\"T_17564_row2_col0\" class=\"data row2 col0\" >178.58%</td>\n",
       "      <td id=\"T_17564_row2_col1\" class=\"data row2 col1\" >140.09%</td>\n",
       "      <td id=\"T_17564_row2_col2\" class=\"data row2 col2\" >155.51%</td>\n",
       "    </tr>\n",
       "    <tr>\n",
       "      <th id=\"T_17564_level0_row3\" class=\"row_heading level0 row3\" >Skewness</th>\n",
       "      <td id=\"T_17564_row3_col0\" class=\"data row3 col0\" >-28.97%</td>\n",
       "      <td id=\"T_17564_row3_col1\" class=\"data row3 col1\" >-81.17%</td>\n",
       "      <td id=\"T_17564_row3_col2\" class=\"data row3 col2\" >-43.25%</td>\n",
       "    </tr>\n",
       "    <tr>\n",
       "      <th id=\"T_17564_level0_row4\" class=\"row_heading level0 row4\" >Excess Kurtosis</th>\n",
       "      <td id=\"T_17564_row4_col0\" class=\"data row4 col0\" >158.00%</td>\n",
       "      <td id=\"T_17564_row4_col1\" class=\"data row4 col1\" >291.72%</td>\n",
       "      <td id=\"T_17564_row4_col2\" class=\"data row4 col2\" >-35.87%</td>\n",
       "    </tr>\n",
       "    <tr>\n",
       "      <th id=\"T_17564_level0_row5\" class=\"row_heading level0 row5\" >Historical VaR (5.00%)</th>\n",
       "      <td id=\"T_17564_row5_col0\" class=\"data row5 col0\" >-3.04%</td>\n",
       "      <td id=\"T_17564_row5_col1\" class=\"data row5 col1\" >-2.64%</td>\n",
       "      <td id=\"T_17564_row5_col2\" class=\"data row5 col2\" >-4.66%</td>\n",
       "    </tr>\n",
       "    <tr>\n",
       "      <th id=\"T_17564_level0_row6\" class=\"row_heading level0 row6\" >Annualized Historical VaR (5.00%)</th>\n",
       "      <td id=\"T_17564_row6_col0\" class=\"data row6 col0\" >-10.52%</td>\n",
       "      <td id=\"T_17564_row6_col1\" class=\"data row6 col1\" >-9.14%</td>\n",
       "      <td id=\"T_17564_row6_col2\" class=\"data row6 col2\" >-16.16%</td>\n",
       "    </tr>\n",
       "  </tbody>\n",
       "</table>\n"
      ],
      "text/plain": [
       "<pandas.io.formats.style.Styler at 0x150d134d0>"
      ]
     },
     "execution_count": 4,
     "metadata": {},
     "output_type": "execute_result"
    }
   ],
   "source": [
    "xs_rets_ltcm = rets_ltcm - rets_rf.loc[rets_ltcm.index].values\n",
    "xs_rets_spy = rets_spy - rets_rf.loc[rets_spy.index].values\n",
    "\n",
    "compare_df = pd.concat([xs_rets_ltcm, xs_rets_spy.loc[xs_rets_ltcm.index]], axis=1)\n",
    "pmh.calc_summary_statistics(compare_df, annual_factor=12, provided_excess_returns=True,\n",
    "                            keep_columns=['Annualized Mean', 'Annualized Vol', 'Annualized Sharpe',\n",
    "                                          'Skewness', 'Kurtosis', 'Historical VaR']).T.style.format(\"{:.2%}\")"
   ]
  },
  {
   "cell_type": "markdown",
   "id": "fee21d31",
   "metadata": {},
   "source": [
    "<span style=\"color:red;\">\n",
    "\n",
    "These performance stats are impressive. On a gross basis, LTCM was returning considerably more than SPY, and with little more risk.\n",
    "\n",
    "* The Sharpe ratio of 1.79 is unmatched across all other return series we've analyzed. \n",
    "* The smaller negative skewness of the gross returns suggests there is a relatively fewer big positive return periods\n",
    "* The high excess kurtosis suggests that the distribution of returns have much fatter tails\n",
    "* Despite the heavy tails, the historical VaR is substantially better than SPY\n",
    "\n",
    "Out of curiosity, I also assess the max drawdown profiles below. Here, the LTCM fund shows significantly more tail risk than SPY.\n",
    "\n",
    "</span>"
   ]
  },
  {
   "cell_type": "code",
   "execution_count": 5,
   "id": "91fe2d0d",
   "metadata": {},
   "outputs": [
    {
     "data": {
      "text/html": [
       "<div>\n",
       "<style scoped>\n",
       "    .dataframe tbody tr th:only-of-type {\n",
       "        vertical-align: middle;\n",
       "    }\n",
       "\n",
       "    .dataframe tbody tr th {\n",
       "        vertical-align: top;\n",
       "    }\n",
       "\n",
       "    .dataframe thead th {\n",
       "        text-align: right;\n",
       "    }\n",
       "</style>\n",
       "<table border=\"1\" class=\"dataframe\">\n",
       "  <thead>\n",
       "    <tr style=\"text-align: right;\">\n",
       "      <th></th>\n",
       "      <th>gross_ret</th>\n",
       "      <th>net_ret</th>\n",
       "      <th>SPY</th>\n",
       "    </tr>\n",
       "  </thead>\n",
       "  <tbody>\n",
       "    <tr>\n",
       "      <th>Max Drawdown</th>\n",
       "      <td>-0.1688</td>\n",
       "      <td>-0.1754</td>\n",
       "      <td>-0.0559</td>\n",
       "    </tr>\n",
       "    <tr>\n",
       "      <th>Peak</th>\n",
       "      <td>1998-04-30 00:00:00</td>\n",
       "      <td>1997-12-31 00:00:00</td>\n",
       "      <td>1997-07-31 00:00:00</td>\n",
       "    </tr>\n",
       "    <tr>\n",
       "      <th>Bottom</th>\n",
       "      <td>1998-06-30 00:00:00</td>\n",
       "      <td>1998-07-31 00:00:00</td>\n",
       "      <td>1997-08-29 00:00:00</td>\n",
       "    </tr>\n",
       "    <tr>\n",
       "      <th>Recovery</th>\n",
       "      <td>NaT</td>\n",
       "      <td>NaT</td>\n",
       "      <td>1997-12-31 00:00:00</td>\n",
       "    </tr>\n",
       "    <tr>\n",
       "      <th>Duration (days)</th>\n",
       "      <td>NaN</td>\n",
       "      <td>NaN</td>\n",
       "      <td>124.0000</td>\n",
       "    </tr>\n",
       "  </tbody>\n",
       "</table>\n",
       "</div>"
      ],
      "text/plain": [
       "                           gross_ret              net_ret                  SPY\n",
       "Max Drawdown                 -0.1688              -0.1754              -0.0559\n",
       "Peak             1998-04-30 00:00:00  1997-12-31 00:00:00  1997-07-31 00:00:00\n",
       "Bottom           1998-06-30 00:00:00  1998-07-31 00:00:00  1997-08-29 00:00:00\n",
       "Recovery                         NaT                  NaT  1997-12-31 00:00:00\n",
       "Duration (days)                  NaN                  NaN             124.0000"
      ]
     },
     "execution_count": 5,
     "metadata": {},
     "output_type": "execute_result"
    }
   ],
   "source": [
    "pmh.calc_summary_statistics(compare_df, annual_factor=12, provided_excess_returns=True,\n",
    "                            keep_columns=['Max Drawdown', 'Peak', 'Bottom', 'Recovery', 'Duration']).T"
   ]
  },
  {
   "cell_type": "markdown",
   "id": "ca188811",
   "metadata": {},
   "source": [
    "### 2.2. Using the series of net LTCM excess returns, denoted $\\tilde{r}_{LTCM}$, estimate the following regression:\n",
    "\n",
    "$$\\tilde{r}_{LTCM_t} = \\alpha + \\beta_m \\tilde{r}_{m_t} + \\epsilon_t$$\n",
    "\n",
    "(a) Report $\\alpha$ and $\\beta_m$. Report the $R^2$ stat.\n",
    "\n",
    "(b) From this regression, does LTCM appear to be a “closet indexer”?\n",
    "\n",
    "(c) From the regression, does LTCM appear to deliver excess returns beyond the risk premium we expect from market exposure?\n"
   ]
  },
  {
   "cell_type": "code",
   "execution_count": 6,
   "id": "4271bc60",
   "metadata": {},
   "outputs": [
    {
     "data": {
      "text/html": [
       "<div>\n",
       "<style scoped>\n",
       "    .dataframe tbody tr th:only-of-type {\n",
       "        vertical-align: middle;\n",
       "    }\n",
       "\n",
       "    .dataframe tbody tr th {\n",
       "        vertical-align: top;\n",
       "    }\n",
       "\n",
       "    .dataframe thead th {\n",
       "        text-align: right;\n",
       "    }\n",
       "</style>\n",
       "<table border=\"1\" class=\"dataframe\">\n",
       "  <thead>\n",
       "    <tr style=\"text-align: right;\">\n",
       "      <th></th>\n",
       "      <th>LTCM Market TS Regression Stats</th>\n",
       "    </tr>\n",
       "  </thead>\n",
       "  <tbody>\n",
       "    <tr>\n",
       "      <th>Annualized Alpha</th>\n",
       "      <td>0.2119</td>\n",
       "    </tr>\n",
       "    <tr>\n",
       "      <th>R-Squared</th>\n",
       "      <td>0.0221</td>\n",
       "    </tr>\n",
       "    <tr>\n",
       "      <th>SPY Beta</th>\n",
       "      <td>0.1797</td>\n",
       "    </tr>\n",
       "  </tbody>\n",
       "</table>\n",
       "</div>"
      ],
      "text/plain": [
       "                  LTCM Market TS Regression Stats\n",
       "Annualized Alpha                           0.2119\n",
       "R-Squared                                  0.0221\n",
       "SPY Beta                                   0.1797"
      ]
     },
     "execution_count": 6,
     "metadata": {},
     "output_type": "execute_result"
    }
   ],
   "source": [
    "pmh.calc_regression(xs_rets_ltcm.loc[:, 'gross_ret'].to_frame('LTCM Market TS Regression Stats'), xs_rets_spy.loc[xs_rets_ltcm.index, ['SPY']], \n",
    "                    annual_factor=12, warnings=False,\n",
    "                    keep_columns=['Annualized Alpha', 'SPY Beta', 'R-Squared']).T"
   ]
  },
  {
   "cell_type": "markdown",
   "id": "39b284c1",
   "metadata": {},
   "source": [
    "<span style=\"color:red;\">\n",
    "\n",
    "**(b)** No, LTCM does not appear to be a \"closet indexer.\" The $R^2$ stat is very low in this regression, and most of the excess returns for the LTCM are explained by the Alpha of this regression. This is evidenced by the large Alpha and the small size of the market Beta. This means that the LTCM fund's returns don't move much in response to changes in Market returns.\n",
    "\n",
    "**(c)** Yes, LTCM does appear to deliver excess returns beyond the risk premium we expect from market exposure. Recall that, in a univariate regression, $R^2$ is given by\n",
    "$$R^2 = [corr(\\tilde{r}_{LTCM}, \\tilde{r}_m)]^2$$\n",
    "Consequently, these regression stats tell us that $corr(\\tilde{r}_{LTCM}, \\tilde{r}_m) \\approx 0.145$. Therefore, not only does the LTCM fund appear to deliver excess returns beyond the risk premium we expect from market exposure, but allocations to this fund would provide significant diversification benefits to a portfolio with allocations to the market.\n",
    "\n",
    "</span>"
   ]
  },
  {
   "cell_type": "markdown",
   "id": "1ed91e18",
   "metadata": {},
   "source": [
    "### 2.3. Let’s check for non-linear market exposure. Run the following regression on LTCM’s net excess returns:\n",
    "\n",
    "$$\\tilde{r}_{LTCM_t} = \\alpha + \\beta_1 \\tilde{r}_{m_t} + \\beta_2 (\\tilde{r}_{m_t})^2 + \\epsilon_t$$\n",
    "\n",
    "(a) Report $\\beta_1$, $\\beta_2$, and the $R^2$ stat.\n",
    "\n",
    "(b) Does the quadratic market factor do much to increase the overall LTCM variation explained by the market?\n",
    "\n",
    "(c) From the regression evidence, does LTCM’s market exposure behave as if it is long market options or short market options?\n",
    "\n",
    "(d) Should we describe LTCM as being positively or negatively exposed to market volatility?\n",
    "\n"
   ]
  },
  {
   "cell_type": "code",
   "execution_count": 7,
   "id": "3990fbe2",
   "metadata": {},
   "outputs": [
    {
     "data": {
      "image/png": "[encoded data removed]",
      "text/plain": [
       "<Figure size 640x480 with 1 Axes>"
      ]
     },
     "metadata": {},
     "output_type": "display_data"
    }
   ],
   "source": [
    "spy_input = xs_rets_spy.loc[xs_rets_ltcm.index, ['SPY']]\n",
    "ltcm_input = xs_rets_ltcm.loc[:, ['gross_ret']]\n",
    "poly = PolynomialFeatures(degree=2)\n",
    "spy_poly = poly.fit_transform(spy_input)\n",
    "\n",
    "model = LinearRegression()\n",
    "model.fit(spy_poly, xs_rets_ltcm.loc[:, ['gross_ret']])\n",
    "\n",
    "ltcm_pred = model.predict(spy_poly)\n",
    "\n",
    "# Plot the results\n",
    "plt.scatter(spy_input, ltcm_input, color='blue')\n",
    "plt.scatter(spy_input, ltcm_pred, color='red')\n",
    "plt.title('LTCM Market Polynomial Regression')\n",
    "plt.xlabel('SPY Excess Returns')\n",
    "plt.ylabel('LTCM Excess Returns')\n",
    "plt.legend(['Actual', 'Predicted'])\n",
    "plt.show()"
   ]
  },
  {
   "cell_type": "code",
   "execution_count": 8,
   "id": "a4b690d5",
   "metadata": {},
   "outputs": [
    {
     "data": {
      "text/html": [
       "<div>\n",
       "<style scoped>\n",
       "    .dataframe tbody tr th:only-of-type {\n",
       "        vertical-align: middle;\n",
       "    }\n",
       "\n",
       "    .dataframe tbody tr th {\n",
       "        vertical-align: top;\n",
       "    }\n",
       "\n",
       "    .dataframe thead th {\n",
       "        text-align: right;\n",
       "    }\n",
       "</style>\n",
       "<table border=\"1\" class=\"dataframe\">\n",
       "  <thead>\n",
       "    <tr style=\"text-align: right;\">\n",
       "      <th></th>\n",
       "      <th>LTCM Market Polynomial Regression Stats</th>\n",
       "    </tr>\n",
       "  </thead>\n",
       "  <tbody>\n",
       "    <tr>\n",
       "      <th>Annualized Alpha</th>\n",
       "      <td>0.2436</td>\n",
       "    </tr>\n",
       "    <tr>\n",
       "      <th>R-Squared</th>\n",
       "      <td>0.0287</td>\n",
       "    </tr>\n",
       "    <tr>\n",
       "      <th>SPY Beta</th>\n",
       "      <td>0.2202</td>\n",
       "    </tr>\n",
       "    <tr>\n",
       "      <th>SPY_Squared Beta</th>\n",
       "      <td>-2.5887</td>\n",
       "    </tr>\n",
       "  </tbody>\n",
       "</table>\n",
       "</div>"
      ],
      "text/plain": [
       "                  LTCM Market Polynomial Regression Stats\n",
       "Annualized Alpha                                   0.2436\n",
       "R-Squared                                          0.0287\n",
       "SPY Beta                                           0.2202\n",
       "SPY_Squared Beta                                  -2.5887"
      ]
     },
     "execution_count": 8,
     "metadata": {},
     "output_type": "execute_result"
    }
   ],
   "source": [
    "#(a)\n",
    "xs_rets_spy['SPY_Squared'] = xs_rets_spy.loc[:, ['SPY']] ** 2\n",
    "pmh.calc_regression(xs_rets_ltcm.loc[:, 'gross_ret'].to_frame('LTCM Market Polynomial Regression Stats'), xs_rets_spy.loc[xs_rets_ltcm.index], \n",
    "                    annual_factor=12, warnings=False,\n",
    "                    keep_columns=['Annualized Alpha', 'SPY Beta', 'SPY_Squared Beta', 'R-Squared']).T"
   ]
  },
  {
   "cell_type": "markdown",
   "id": "7475d3a8",
   "metadata": {},
   "source": [
    "<span style=\"color:red;\">\n",
    "\n",
    "**(b)** No, the quadratic market factor does not do much to increase the overall LTCM variation explained by the market. This is evidenced by the $R^2$ in this polynomial regression being near the same as the original linear regression. \n",
    "\n",
    "It's worth pointing out that the beta for the squared SPY returns is large and negative. However, this simply a feature of the factor. The squared monthly returns are considerably smaller than the monthly returns. Thus, the beta has to be substantially larger in magnitude to fit these small squared returns proportionally.\n",
    "\n",
    "**(c)** Since the beta to SPY-squared returns is negative, LTCM's market exposure behaves as if it were short the market options. The beta to SPY can be interpreted as the delta of the market option and the beta to SPY-squared as the gamma to market options. Since the gamma of an option is always positive, LTCM seems to be short the positive gamma or short the market options.\n",
    "\n",
    "***BUT:*** We must note that this is not significant, as evidenced by the $R^2$ of this regression.\n",
    "\n",
    "**(d)** If we trust this regression model, then we can see that for large monthly returns, the negative beta for SPY-squared would lead to heavy underperformance for the LTCM fund. Thus, LTCM seems to be taking on negative exposure to market volatility. Consequently, it will significantly underperform big deviations in the market, but the performance will not be impacted much by small deviations.\n",
    "\n",
    "</span>"
   ]
  },
  {
   "cell_type": "markdown",
   "id": "14e26947",
   "metadata": {},
   "source": [
    "### 2.4. Let’s try to pinpoint the nature of LTCM’s nonlinear exposure. Does it come more from exposure to up-markets or down-markets? Run the following regression on LTCM’s net excess returns:\n",
    "\n",
    "$$\\tilde{r}_{LTCM_t} = \\alpha + \\beta \\tilde{r}_{m_t} + \\beta_u \\max (\\tilde{r}_{m_t} - k_1, 0) + \\beta_d \\max (k_2 - \\tilde{r}_{m_t}, 0) + \\epsilon_t$$\n",
    "\n",
    "where $k_1 = 0.03$ and $k_2 = -0.03$. (This is roughly one standard deviation of $\\tilde{r}_{m}$.)\n",
    "\n",
    "(a) Report $\\beta$, $\\beta_u$, $\\beta_d$, and the $R^2$ stat.\n",
    "\n",
    "(b) Is LTCM long or short the call-like factor? And the put-like factor?\n",
    "\n",
    "(c) Which factor moves LTCM more, the call-like factor, or the put-like factor?\n",
    "\n",
    "(d) In the previous problem, you commented on whether LTCM is positively or negatively exposed to market volatility. Using this current regression, does this volatility exposure come more from being long the market’s upside? Short the market’s downside? Something else?"
   ]
  },
  {
   "cell_type": "code",
   "execution_count": 9,
   "id": "c34656a1",
   "metadata": {},
   "outputs": [
    {
     "data": {
      "text/html": [
       "<div>\n",
       "<style scoped>\n",
       "    .dataframe tbody tr th:only-of-type {\n",
       "        vertical-align: middle;\n",
       "    }\n",
       "\n",
       "    .dataframe tbody tr th {\n",
       "        vertical-align: top;\n",
       "    }\n",
       "\n",
       "    .dataframe thead th {\n",
       "        text-align: right;\n",
       "    }\n",
       "</style>\n",
       "<table border=\"1\" class=\"dataframe\">\n",
       "  <thead>\n",
       "    <tr style=\"text-align: right;\">\n",
       "      <th></th>\n",
       "      <th>LTCM Market Options Regression Stats</th>\n",
       "    </tr>\n",
       "  </thead>\n",
       "  <tbody>\n",
       "    <tr>\n",
       "      <th>Annualized Alpha</th>\n",
       "      <td>0.1739</td>\n",
       "    </tr>\n",
       "    <tr>\n",
       "      <th>R-Squared</th>\n",
       "      <td>0.0648</td>\n",
       "    </tr>\n",
       "    <tr>\n",
       "      <th>SPY Beta</th>\n",
       "      <td>0.6153</td>\n",
       "    </tr>\n",
       "    <tr>\n",
       "      <th>SPY_Call Beta</th>\n",
       "      <td>-1.0455</td>\n",
       "    </tr>\n",
       "    <tr>\n",
       "      <th>SPY_Put Beta</th>\n",
       "      <td>1.6456</td>\n",
       "    </tr>\n",
       "  </tbody>\n",
       "</table>\n",
       "</div>"
      ],
      "text/plain": [
       "                  LTCM Market Options Regression Stats\n",
       "Annualized Alpha                                0.1739\n",
       "R-Squared                                       0.0648\n",
       "SPY Beta                                        0.6153\n",
       "SPY_Call Beta                                  -1.0455\n",
       "SPY_Put Beta                                    1.6456"
      ]
     },
     "execution_count": 9,
     "metadata": {},
     "output_type": "execute_result"
    }
   ],
   "source": [
    "# (a)\n",
    "xs_rets_spy['SPY_Call'] = np.maximum(xs_rets_spy['SPY'] - 0.03, 0)\n",
    "xs_rets_spy['SPY_Put'] = np.maximum(-xs_rets_spy['SPY'] - 0.03, 0)\n",
    "pmh.calc_regression(xs_rets_ltcm.loc[:, 'gross_ret'].to_frame('LTCM Market Options Regression Stats'), \n",
    "                    xs_rets_spy.loc[xs_rets_ltcm.index, ['SPY', 'SPY_Call', 'SPY_Put']], \n",
    "                    annual_factor=12, warnings=False,\n",
    "                    keep_columns=['Annualized Alpha', 'SPY Beta', 'SPY_Call Beta', 'SPY_Put Beta', 'R-Squared']).T"
   ]
  },
  {
   "cell_type": "markdown",
   "id": "4b677b15",
   "metadata": {},
   "source": [
    "<span style=\"color:red;\">\n",
    "\n",
    "**(b)** Based on these regression stats, LTCM appears to be long the put-like factor and short the call-like factor. \n",
    "\n",
    "**(c)** The put-like factor moves LTCM more, as evidenced by the larger $|\\beta|$ associated with the put-like factor.\n",
    "\n",
    "**(d)** This volatility exposure appears to come more from being long the market's downside. That is, this regression seems to suggest that LTCM's strategy is focused on hedging downside market risk at the cost of capping upside returns.\n",
    "\n",
    "***However:*** We saw in the preceding question that they are short volatility. Though we **cannot conclude this** based on this regression alone. In fact, this regression implies the opposite. Namely, being long options is being long vol, and we are long a lot more put options than call options. This means that, in a vacuum, we are long vol. However, this depends on the *strikes* of the options. So, if the call-like factor is closer to ATM than the put-like factor, then we might actually be short vol, since the calls will have a higher vega than the puts. But, if the strikes are symmetric (equally OTM), then we are long vol.\n",
    "\n",
    "</span>"
   ]
  },
  {
   "cell_type": "markdown",
   "id": "a21e96b0",
   "metadata": {},
   "source": [
    "\n",
    "---"
   ]
  },
  {
   "cell_type": "markdown",
   "id": "f1d79e4e",
   "metadata": {},
   "source": [
    "## 3 The FX Carry Trade\n",
    "\n",
    "#### Data\n",
    "\n",
    "Find an Excel data file, `data/fx_rf_data.xlsx`. The file has two sets of data:\n",
    "\n",
    "- “risk-free rates” - daily quotes of annualized risk-free rates across currencies.\n",
    "- “exchange rates” - daily quotes of spot FX rates expressed as direct quotes to the USD.\n",
    "\n",
    "#### Data Processing\n",
    "\n",
    "- For risk-free rate data, $r_{t,t+1}^{f,i}$, the rate is known and reported in the data at time $t$. Thus, at any given date $t$, the data file is reporting both $S^i_t$ and $r_{t,t+1}^{f,i}$.\n",
    "\n",
    "- The theory says to use log risk-free rates. You have the risk-free rate in levels: use the following equation to convert them:\n",
    "\n",
    "    $$ r_{t,t+1}^{f,i} = \\ln(1 + r_{t,t+1}^{f,i}) $$\n",
    "\n",
    "- The theory says to use log spot FX prices. You have the FX prices in levels, so directly take their logarithms:\n",
    "\n",
    "    $$ s^i_t = \\ln(S^i_t) $$\n"
   ]
  },
  {
   "cell_type": "code",
   "execution_count": 15,
   "id": "d8eb0b60",
   "metadata": {},
   "outputs": [
    {
     "data": {
      "text/plain": [
       "<Axes: title={'center': 'Log Exchange Rates'}, xlabel='date'>"
      ]
     },
     "execution_count": 15,
     "metadata": {},
     "output_type": "execute_result"
    },
    {
     "data": {
      "image/png": "[encoded data removed]",
      "text/plain": [
       "<Figure size 640x480 with 1 Axes>"
      ]
     },
     "metadata": {},
     "output_type": "display_data"
    },
    {
     "data": {
      "image/png": "[encoded data removed]",
      "text/plain": [
       "<Figure size 640x480 with 1 Axes>"
      ]
     },
     "metadata": {},
     "output_type": "display_data"
    }
   ],
   "source": [
    "FX_FILE = DATA_PATH + 'fx_rf_data.xlsx'\n",
    "rf_rates = pmh.read_excel_default(FX_FILE, \n",
    "                                 sheet_name='risk-free rates',\n",
    "                                 index_col='date', parse_dates=True)\n",
    "rf_rates /= 252   # risk-free rates are originally provided on annualized basis, converting to daily\n",
    "ex_rates = pmh.read_excel_default(FX_FILE, \n",
    "                                 sheet_name='exchange rates',\n",
    "                                 index_col='date', parse_dates=True)\n",
    "\n",
    "log_rf_rates = np.log(1 + rf_rates)\n",
    "log_ex_rates = np.log(ex_rates)\n",
    "\n",
    "log_rf_rates.plot(title='Log Risk-Free Rates', legend='best')\n",
    "log_ex_rates.plot(title='Log Exchange Rates', legend='best')"
   ]
  },
  {
   "cell_type": "markdown",
   "id": "e604fbef",
   "metadata": {},
   "source": [
    "### 3.1 The Static Carry Trade\n",
    "\n",
    "Define the log return of holding the foreign currency using log values of the risk-free rate and log values of the FX rates:\n",
    "\n",
    "$$ r^i_{t+1} \\equiv s^i_{t+1} - s^i_t + r_{t,t+1} $$\n",
    "\n",
    "Then the excess log return relative to USD, is expressed as\n",
    "\n",
    "$$ \\tilde{r}^i_{t+1} \\equiv s^i_{t+1} - s^i_t + r_{t,t+1}^{f,i} - r_{t,t+1}^{f,\\$} $$\n",
    "\n",
    "For each foreign currency, $i$, calculate the excess log return series, $\\tilde{r}_{t+1}$. Report the following stats, (based on the excess log returns.) Annualize them.\n",
    "\n",
    "1. Mean\n",
    "2. Volatility\n",
    "3. Sharpe ratio\n",
    "\n",
    "What differences do you see across currencies?"
   ]
  },
  {
   "cell_type": "code",
   "execution_count": 17,
   "id": "a9068e8f",
   "metadata": {},
   "outputs": [
    {
     "data": {
      "text/html": [
       "<style type=\"text/css\">\n",
       "</style>\n",
       "<table id=\"T_60eba\">\n",
       "  <thead>\n",
       "    <tr>\n",
       "      <th class=\"blank level0\" >&nbsp;</th>\n",
       "      <th id=\"T_60eba_level0_col0\" class=\"col_heading level0 col0\" >JPY</th>\n",
       "      <th id=\"T_60eba_level0_col1\" class=\"col_heading level0 col1\" >EUR</th>\n",
       "      <th id=\"T_60eba_level0_col2\" class=\"col_heading level0 col2\" >GBP</th>\n",
       "      <th id=\"T_60eba_level0_col3\" class=\"col_heading level0 col3\" >MXN</th>\n",
       "      <th id=\"T_60eba_level0_col4\" class=\"col_heading level0 col4\" >CHF</th>\n",
       "    </tr>\n",
       "  </thead>\n",
       "  <tbody>\n",
       "    <tr>\n",
       "      <th id=\"T_60eba_level0_row0\" class=\"row_heading level0 row0\" >Annualized Mean</th>\n",
       "      <td id=\"T_60eba_row0_col0\" class=\"data row0 col0\" >-2.96%</td>\n",
       "      <td id=\"T_60eba_row0_col1\" class=\"data row0 col1\" >-2.36%</td>\n",
       "      <td id=\"T_60eba_row0_col2\" class=\"data row0 col2\" >-2.48%</td>\n",
       "      <td id=\"T_60eba_row0_col3\" class=\"data row0 col3\" >1.31%</td>\n",
       "      <td id=\"T_60eba_row0_col4\" class=\"data row0 col4\" >0.25%</td>\n",
       "    </tr>\n",
       "    <tr>\n",
       "      <th id=\"T_60eba_level0_row1\" class=\"row_heading level0 row1\" >Annualized Vol</th>\n",
       "      <td id=\"T_60eba_row1_col0\" class=\"data row1 col0\" >9.91%</td>\n",
       "      <td id=\"T_60eba_row1_col1\" class=\"data row1 col1\" >9.01%</td>\n",
       "      <td id=\"T_60eba_row1_col2\" class=\"data row1 col2\" >9.57%</td>\n",
       "      <td id=\"T_60eba_row1_col3\" class=\"data row1 col3\" >13.00%</td>\n",
       "      <td id=\"T_60eba_row1_col4\" class=\"data row1 col4\" >10.69%</td>\n",
       "    </tr>\n",
       "    <tr>\n",
       "      <th id=\"T_60eba_level0_row2\" class=\"row_heading level0 row2\" >Annualized Sharpe</th>\n",
       "      <td id=\"T_60eba_row2_col0\" class=\"data row2 col0\" >-29.82%</td>\n",
       "      <td id=\"T_60eba_row2_col1\" class=\"data row2 col1\" >-26.24%</td>\n",
       "      <td id=\"T_60eba_row2_col2\" class=\"data row2 col2\" >-25.97%</td>\n",
       "      <td id=\"T_60eba_row2_col3\" class=\"data row2 col3\" >10.08%</td>\n",
       "      <td id=\"T_60eba_row2_col4\" class=\"data row2 col4\" >2.32%</td>\n",
       "    </tr>\n",
       "  </tbody>\n",
       "</table>\n"
      ],
      "text/plain": [
       "<pandas.io.formats.style.Styler at 0x152c84230>"
      ]
     },
     "execution_count": 17,
     "metadata": {},
     "output_type": "execute_result"
    }
   ],
   "source": [
    "spot_returns = log_ex_rates - log_ex_rates.shift(1)\n",
    "rate_returns = log_rf_rates.drop('USD', axis=1) - log_rf_rates[['USD']].values\n",
    "xs_log_rets = spot_returns + rate_returns\n",
    "\n",
    "(pmh.calc_summary_statistics(xs_log_rets, annual_factor=252, provided_excess_returns=True,\n",
    "                            keep_columns=['Annualized Mean', 'Annualized Vol', 'Annualized Sharpe',])\n",
    "                            .T.style.format(\"{:.2%}\"))"
   ]
  },
  {
   "cell_type": "markdown",
   "id": "fb7960d2",
   "metadata": {},
   "source": [
    "<span style=\"color:red;\">\n",
    "\n",
    "* JPY, EUR, and GBP excess returns have very similar return profiles. All negative with low vol.\n",
    "* MXN and CHF provide some excess return, but also demand higher vols\n",
    "\n",
    "In summary, one should short the JPY, EUR, and GBP rates and long the MXN and CHF rates. \n",
    "\n",
    "</span>"
   ]
  },
  {
   "cell_type": "markdown",
   "id": "62c6ccf4",
   "metadata": {
    "vscode": {
     "languageId": "plaintext"
    }
   },
   "source": [
    "### 3.2 Implications for UIP\n",
    "\n",
    "1. Do any of these stats contradict the (log version) of Uncovered Interest Parity (UIP)?\n",
    "2. A long position in which foreign currency offered the best Sharpe ratio over the sample?\n",
    "3. Are there any foreign currencies for which a long position earned a negative excess return (in USD) over the sample?\n"
   ]
  },
  {
   "cell_type": "markdown",
   "id": "9798a24d",
   "metadata": {},
   "source": [
    "<span style=\"color:red;\">\n",
    "\n",
    "**(1)** Recall that UIP states that, in logs, we have\n",
    "$$ln \\mathbb{E}_t[S_{t+1}^i] - s_t^i = r_{t, t+1}^{f, \\$} - r_{t, t+1}^{f, i}$$\n",
    "so we should have excess log returns from 3.1:\n",
    "$$s_{t+1}^i - s_t + r_{t, t+1}^{f, i} - r_{t, t+1}^{f, \\$} = 0$$\n",
    "Statistically speaking, it appears we are able to reject the null hypothesis that the excess log returns of each of these currencies is equal to zero--refer below. Consequently, this suggests that UIP is violated.\n",
    "\n",
    "</span>"
   ]
  },
  {
   "cell_type": "code",
   "execution_count": 26,
   "id": "05441cce",
   "metadata": {},
   "outputs": [
    {
     "name": "stdout",
     "output_type": "stream",
     "text": [
      "Reject the null hypothesis at the 0.05 level of significance for JPY                      \n",
      "\tp-value: 0.0000%\n",
      "Reject the null hypothesis at the 0.05 level of significance for EUR                      \n",
      "\tp-value: 0.0000%\n",
      "Reject the null hypothesis at the 0.05 level of significance for GBP                      \n",
      "\tp-value: 0.0000%\n",
      "Reject the null hypothesis at the 0.05 level of significance for MXN                      \n",
      "\tp-value: 0.0000%\n",
      "Reject the null hypothesis at the 0.05 level of significance for CHF                      \n",
      "\tp-value: 0.0000%\n"
     ]
    }
   ],
   "source": [
    "# 1.\n",
    "def t_test(x, annual_factor, mu=0, alpha=0.05, two_tailed=True):\n",
    "    n = len(x)\n",
    "    t = (np.mean(x) - mu) / (np.std(x) / np.sqrt(n)) * np.sqrt(annual_factor)\n",
    "    if two_tailed:\n",
    "        p = 2 * (1 - norm.cdf(np.abs(t)))\n",
    "    else:\n",
    "        p = 1 - norm.cdf(np.abs(t))\n",
    "    if isinstance(x, pd.DataFrame):\n",
    "        for i, col in enumerate(x.columns):\n",
    "            if p[i] < alpha:\n",
    "                print(f\"Reject the null hypothesis at the {alpha} level of significance for {col}\\\n",
    "                      \\n\\tp-value: {p[i]:.4%}\")\n",
    "            else:\n",
    "                print(f\"Fail to reject the null hypothesis at the {alpha} level of significance for {col}\\\n",
    "                      \\n\\tp-value: {p[i]:.4%}\")\n",
    "    else:\n",
    "        if p < alpha:\n",
    "                print(f\"Reject the null hypothesis at the {alpha} level of significance\\\n",
    "                      \\n\\tp-value: {p:.4%}\")\n",
    "        else:\n",
    "            print(f\"Fail to reject the null hypothesis at the {alpha} level of significance\\\n",
    "                  \\n\\tp-value: {p:.4%}\")\n",
    "    \n",
    "    return t, p\n",
    "\n",
    "_, p = t_test(xs_log_rets, annual_factor=252, mu=0, alpha=0.05, two_tailed=True)"
   ]
  },
  {
   "cell_type": "markdown",
   "id": "37c5af98",
   "metadata": {},
   "source": [
    "<span style=\"color:red;\">\n",
    "\n",
    "**(2)** A long position in MXN offered the best Sharpe in the observed sample period.\n",
    "\n",
    "**(3)** Yes--JPY, GBP, EUR all seem to provide negative excess return over the sample period.\n",
    "\n",
    "</span>"
   ]
  },
  {
   "cell_type": "markdown",
   "id": "fd99c83f",
   "metadata": {},
   "source": [
    "\n",
    "### 3.3 Predicting FX\n",
    "\n",
    "For each foreign currency, test whether interest-rate differentials can predict growth in the foreign-exchange rate. Do this by estimating the following forecasting regression:\n",
    "\n",
    "$$ s^i_{t+1} - s^i_t = \\alpha^i + \\beta^i \\left( r_{f,\\$_{t,t+1}} - r_{f,it,t+1} \\right) + \\epsilon^i_{t+1} $$\n",
    "\n",
    "where $r_{f,i}$ denotes the risk-free rate of currency $i$, and $s^i$ denotes the FX rate for currency $i$. Again, note that both $r_{f,\\$_{t,t+1}}$ and $s_t$ are determined at time $t$.\n",
    "\n",
    "1. Make a table with columns corresponding to a different currency regression. Report the regression estimates $\\alpha^i$ and $\\beta^i$ in the first two rows. Report the $R^2$ stat in the third row.\n",
    "\n",
    "2. Suppose the foreign risk-free rate increases relative to the US rate.\n",
    "\n",
    "    (a) For which foreign currencies would we predict a relative strengthening of the USD in the following period?\n",
    "\n",
    "    (b) For which currencies would we predict relative weakening of the USD in the following period?\n",
    "\n",
    "    (c) This FX predictability is strongest in the case of which foreign currency?\n"
   ]
  },
  {
   "cell_type": "markdown",
   "id": "adf0d146",
   "metadata": {},
   "source": [
    "\n",
    "### 3.4 The Dynamic Carry Trade\n",
    "\n",
    "Use this to write $ E_t \\left[ \\tilde{r}^i_{t+1} \\right] $ as a function of the interest-rate differential as well as $\\alpha$ and $\\beta$ from this FX regression.\n",
    "\n",
    "$$ E_t \\left[ s^i_{t+1} - s^i_t \\right] = \\alpha + \\beta \\left( r_{f,\\$_{t,t+1}} - r_{f,it,t+1} \\right) $$\n",
    "\n",
    "Then use the definition of excess (log) returns on FX:\n",
    "\n",
    "$$ \\tilde{r}^i_{t+1} = s^i_{t+1} - s^i_t - \\left( r_{f,\\$_{t,t+1}} - r_{f,it,t+1} \\right) $$\n",
    "\n",
    "Rearranging, this implies the following forecast for excess log returns:\n",
    "\n",
    "$$ E_t \\left[ \\tilde{r}^i_{t+1} \\right] = \\alpha + (\\beta - 1) \\left( r_{f,\\$_{t,t+1}} - r_{f,it,t+1} \\right) $$\n",
    "\n",
    "1. Use your regression estimates from Problem 3 along with the formula above to calculate the fraction of months for which the estimated FX risk premium is positive. That is, for each $i$, calculate how often in the time-series we have:\n",
    "\n",
    "    $$ E_t \\left[ \\tilde{r}^i_{t+1} \\right] > 0 $$\n",
    "\n",
    "2. Which currencies most consistently have a positive FX risk premium? And for which currencies does the FX risk premium most often go negative?\n",
    "\n",
    "3. Explain how we could use these conditional risk premia to improve the static carry trade returns calculated in Problem 1.\n"
   ]
  },
  {
   "cell_type": "markdown",
   "id": "3c496c92",
   "metadata": {},
   "source": []
  }
 ],
 "metadata": {
  "kernelspec": {
   "display_name": "base",
   "language": "python",
   "name": "python3"
  },
  "language_info": {
   "codemirror_mode": {
    "name": "ipython",
    "version": 3
   },
   "file_extension": ".py",
   "mimetype": "text/x-python",
   "name": "python",
   "nbconvert_exporter": "python",
   "pygments_lexer": "ipython3",
   "version": "3.12.4"
  }
 },
 "nbformat": 4,
 "nbformat_minor": 5
}
